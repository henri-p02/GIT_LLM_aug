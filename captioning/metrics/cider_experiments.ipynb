{
 "cells": [
  {
   "cell_type": "code",
   "execution_count": 1,
   "metadata": {},
   "outputs": [],
   "source": [
    "from cider import CIDER as MyCider\n",
    "from original.tylin_cider import Cider as TylinCider\n",
    "import json\n",
    "from itertools import islice"
   ]
  },
  {
   "cell_type": "markdown",
   "metadata": {},
   "source": [
    "## Calculating CIDEr-D score for random captions on COCO-validation"
   ]
  },
  {
   "cell_type": "code",
   "execution_count": 2,
   "metadata": {},
   "outputs": [],
   "source": [
    "all_images = json.load(open('../../data/karpathy/coco/dataset.json', 'rb'))['images']\n",
    "val = [i for i in all_images if i['split'] == 'val']\n",
    "train = [i for i in all_images if i['split'] == 'train']"
   ]
  },
  {
   "cell_type": "code",
   "execution_count": 18,
   "metadata": {},
   "outputs": [
    {
     "data": {
      "application/vnd.jupyter.widget-view+json": {
       "model_id": "a2fcbc21938448f5bd643f3feac93938",
       "version_major": 2,
       "version_minor": 0
      },
      "text/plain": [
       "  0%|          | 0/5000 [00:00<?, ?it/s]"
      ]
     },
     "metadata": {},
     "output_type": "display_data"
    }
   ],
   "source": [
    "from transformers import BertTokenizerFast as BertTokenizer\n",
    "from tqdm.notebook import tqdm_notebook as tqdm\n",
    "import numpy as np\n",
    "import torch\n",
    "import random\n",
    "\n",
    "tkz = BertTokenizer.from_pretrained('google-bert/bert-base-cased', bos_token=\"<BOS>\", eos_token=\"<EOS>\", pad_token=\"<PAD>\")\n",
    "val_refs = {img['imgid']: tkz([ref['raw'] for ref in img['sentences']], add_special_tokens=False)['input_ids'] for img in tqdm(val)}\n",
    "val_refs = {id: r for id, r in val_refs.items() if len(r) == 5} # drop the 10 images with 6 captions"
   ]
  },
  {
   "cell_type": "code",
   "execution_count": 4,
   "metadata": {},
   "outputs": [
    {
     "name": "stderr",
     "output_type": "stream",
     "text": [
      "100%|██████████| 82783/82783 [00:46<00:00, 1768.87it/s]\n"
     ]
    }
   ],
   "source": [
    "train_refs = [tkz(ref['raw'], add_special_tokens=False)['input_ids'] for img in tqdm(train) for ref in img['sentences']]"
   ]
  },
  {
   "cell_type": "code",
   "execution_count": 5,
   "metadata": {},
   "outputs": [
    {
     "name": "stderr",
     "output_type": "stream",
     "text": [
      "100%|██████████| 414113/414113 [00:01<00:00, 275512.92it/s]\n"
     ]
    }
   ],
   "source": [
    "from collections import defaultdict\n",
    "train_uni_df = defaultdict(int)\n",
    "for ref in tqdm(train_refs):\n",
    "    for t in ref:\n",
    "        train_uni_df[t] += 1"
   ]
  },
  {
   "cell_type": "code",
   "execution_count": 6,
   "metadata": {},
   "outputs": [
    {
     "data": {
      "image/png": "[encoded data removed]",
      "text/plain": [
       "<Figure size 432x288 with 1 Axes>"
      ]
     },
     "metadata": {
      "needs_background": "light"
     },
     "output_type": "display_data"
    }
   ],
   "source": [
    "import matplotlib.pyplot as plt\n",
    "\n",
    "uni_values = torch.arange(106, len(tkz)-3)\n",
    "uni_dfs = [train_uni_df[t.item()] for t in uni_values]\n",
    "unigram_dist = torch.distributions.Categorical(probs=torch.tensor(uni_dfs) / sum(uni_dfs))\n",
    "\n",
    "random_dist = torch.distributions.Categorical(probs = torch.ones_like(uni_values) / uni_values.size(0))\n",
    "\n",
    "plt.plot(unigram_dist.probs.sort().values, label=\"unigrams\")\n",
    "plt.plot(random_dist.probs, label=\"uniform\")\n",
    "plt.legend()\n",
    "plt.yscale('log')"
   ]
  },
  {
   "cell_type": "markdown",
   "metadata": {},
   "source": [
    "Sample new captions with uniform token distribution. The length is sampled from a gaussian distribution with $\\mu = \\frac{1}{5} \\sum_{s_{ij}} l_{ij}$  and $\\sigma = \\frac{1}{2}\\frac{1}{5} \\sum_{s_{ij}} \\left(l_{ij} - \\mu\\right)^2$"
   ]
  },
  {
   "cell_type": "code",
   "execution_count": 12,
   "metadata": {},
   "outputs": [],
   "source": [
    "def compute_random_cider(val_refs, distribution):\n",
    "    cands = {}\n",
    "\n",
    "    ref_lens = np.array([[len(x) for x in refs] for refs in val_refs.values()])\n",
    "    cand_lens = np.floor(np.random.randn(ref_lens.shape[0]) * ref_lens.std(axis=-1) / 2 + ref_lens.mean(axis=-1)).astype(int)\n",
    "    cand_samples = np.random.randint(106, len(tkz)-3, size=(cand_lens.shape[0], cand_lens.max()))\n",
    "    \n",
    "    all_tokens = torch.arange(106, len(tkz)-3)\n",
    "    cand_samples = all_tokens[distribution.sample((cand_lens.shape[0], cand_lens.max()))].numpy()\n",
    "\n",
    "    for imgid, cand, new_len in zip(val_refs.keys(), cand_samples, cand_lens):\n",
    "        c = cand[:new_len].tolist()\n",
    "        cands[imgid] = [c]\n",
    "        \n",
    "    cider = MyCider(n = 4)\n",
    "    for id in val_refs.keys():\n",
    "        cider.add_sample(cands[id][0], val_refs[id])\n",
    "        \n",
    "    score, std = cider.calc_score(silent=True)\n",
    "    return score"
   ]
  },
  {
   "cell_type": "code",
   "execution_count": 16,
   "metadata": {},
   "outputs": [],
   "source": [
    "def compute_ref_cider(val_refs):    \n",
    "    cands = {}\n",
    "\n",
    "    for imgid in val_refs.keys():\n",
    "        c = random.choice(val_refs[imgid])\n",
    "        cands[imgid] = [c]\n",
    "        \n",
    "    cider = MyCider(n = 4)\n",
    "    for id in val_refs.keys():\n",
    "        cider.add_sample(cands[id][0], val_refs[id])\n",
    "        \n",
    "    score, std = cider.calc_score(silent=True)\n",
    "    return score"
   ]
  },
  {
   "cell_type": "markdown",
   "metadata": {},
   "source": [
    "### Uniform"
   ]
  },
  {
   "cell_type": "code",
   "execution_count": 14,
   "metadata": {},
   "outputs": [
    {
     "data": {
      "application/vnd.jupyter.widget-view+json": {
       "model_id": "7ab2d0617fb342fdb4e19e03ce3449d3",
       "version_major": 2,
       "version_minor": 0
      },
      "text/plain": [
       "outer:   0%|          | 0/10 [00:00<?, ?it/s]"
      ]
     },
     "metadata": {},
     "output_type": "display_data"
    },
    {
     "data": {
      "text/plain": [
       "0.0003735891453275005"
      ]
     },
     "execution_count": 14,
     "metadata": {},
     "output_type": "execute_result"
    }
   ],
   "source": [
    "scores = []\n",
    "for _ in tqdm(range(10), desc=\"outer\"):\n",
    "    scores.append(compute_random_cider(val_refs, random_dist))\n",
    "    \n",
    "np.array(scores).mean()"
   ]
  },
  {
   "cell_type": "markdown",
   "metadata": {},
   "source": [
    "#### Unigram"
   ]
  },
  {
   "cell_type": "code",
   "execution_count": 20,
   "metadata": {},
   "outputs": [
    {
     "data": {
      "application/vnd.jupyter.widget-view+json": {
       "model_id": "f27bf8bb2d874232bcfc1af039fae581",
       "version_major": 2,
       "version_minor": 0
      },
      "text/plain": [
       "outer:   0%|          | 0/10 [00:00<?, ?it/s]"
      ]
     },
     "metadata": {},
     "output_type": "display_data"
    },
    {
     "data": {
      "text/plain": [
       "0.021405869583412174"
      ]
     },
     "execution_count": 20,
     "metadata": {},
     "output_type": "execute_result"
    }
   ],
   "source": [
    "scores = []\n",
    "for _ in tqdm(range(10), desc=\"outer\"):\n",
    "    scores.append(compute_random_cider(val_refs, unigram_dist))\n",
    "    \n",
    "np.array(scores).mean()"
   ]
  },
  {
   "cell_type": "markdown",
   "metadata": {},
   "source": [
    "#### Refrence"
   ]
  },
  {
   "cell_type": "code",
   "execution_count": 19,
   "metadata": {},
   "outputs": [
    {
     "data": {
      "application/vnd.jupyter.widget-view+json": {
       "model_id": "292ac21836a04944b02a3da58505cfa5",
       "version_major": 2,
       "version_minor": 0
      },
      "text/plain": [
       "outer:   0%|          | 0/10 [00:00<?, ?it/s]"
      ]
     },
     "metadata": {},
     "output_type": "display_data"
    },
    {
     "data": {
      "text/plain": [
       "2.713984991921444"
      ]
     },
     "execution_count": 19,
     "metadata": {},
     "output_type": "execute_result"
    }
   ],
   "source": [
    "scores = []\n",
    "for _ in tqdm(range(10), desc=\"outer\"):\n",
    "    scores.append(compute_ref_cider(val_refs))\n",
    "    \n",
    "np.array(scores).mean()"
   ]
  }
 ],
 "metadata": {
  "kernelspec": {
   "display_name": "Python 3",
   "language": "python",
   "name": "python3"
  },
  "language_info": {
   "codemirror_mode": {
    "name": "ipython",
    "version": 3
   },
   "file_extension": ".py",
   "mimetype": "text/x-python",
   "name": "python",
   "nbconvert_exporter": "python",
   "pygments_lexer": "ipython3",
   "version": "3.9.2"
  }
 },
 "nbformat": 4,
 "nbformat_minor": 2
}
