{
 "cells": [
  {
   "cell_type": "code",
   "execution_count": 1,
   "metadata": {},
   "outputs": [],
   "source": [
    "import json\n",
    "import wandb\n",
    "import copy"
   ]
  },
  {
   "cell_type": "code",
   "execution_count": 2,
   "metadata": {},
   "outputs": [],
   "source": [
    "class SweepDict(dict):\n",
    "    \n",
    "    def __init__(self, existing = None):\n",
    "        if existing is None:\n",
    "            super(SweepDict, self).__init__()\n",
    "        else:\n",
    "            super(SweepDict, self).__init__(existing)\n",
    "            \n",
    "        self.pop('$schema')\n",
    "            \n",
    "            \n",
    "    def replace_property(self, full_path: str, values: dict):\n",
    "        new_params = copy.deepcopy(self)\n",
    "        act = new_params\n",
    "        path = full_path.split('.')[:-1]\n",
    "        prop_name = full_path.split('.')[-1]\n",
    "        for prop in path:\n",
    "            act = act[prop]['parameters']\n",
    "            \n",
    "        if not prop_name in act.keys():\n",
    "            raise Exception(f\"Invalid Key {prop_name}, must be any of {list(act.keys())}\")\n",
    "        act[prop_name] = values\n",
    "        return new_params\n",
    "    \n",
    "    \n",
    "\n",
    "with open('sweep_base.json', 'r') as f:\n",
    "    base = SweepDict(json.load(f))"
   ]
  },
  {
   "cell_type": "code",
   "execution_count": 3,
   "metadata": {},
   "outputs": [],
   "source": [
    "params = (base\n",
    "          .replace_property('dataset.augmentation', {'value': 'flip-perspective'})\n",
    "          .replace_property(\"dataset.dataset\", {\"values\": [\"COCO-karpathy\", \"COCO-karpathy-llama2\", \"COCO-karpathy-llama\"]})\n",
    "          .replace_property('model.d_ffn', {'value': 1396})\n",
    "          .replace_property('model.num_layers', {'value': 5})\n",
    "          .replace_property('model.num_heads', {'value': 16})\n",
    "          .replace_property('model.dropout', {'value': 0.2})\n",
    "          .replace_property('train.early_stopping', {\"values\": [100, 300]})\n",
    "          .replace_property('train.optimizer.args.weight_decay', {\"value\": 0.00412})\n",
    "          .replace_property('train.optimizer.base_lr', {\"value\": 0.00004})\n",
    "          .replace_property('train.resulting_batch_size', {\"value\": 4096})\n",
    "          .replace_property('train.label_smoothing', {\"value\": 0.02})\n",
    "          )"
   ]
  },
  {
   "cell_type": "code",
   "execution_count": 4,
   "metadata": {},
   "outputs": [
    {
     "data": {
      "text/plain": [
       "{'dataset': {'parameters': {'augmentation': {'value': 'flip-perspective'},\n",
       "   'batch_size': {'value': 256},\n",
       "   'dataset': {'values': ['COCO-karpathy',\n",
       "     'COCO-karpathy-llama2',\n",
       "     'COCO-karpathy-llama']},\n",
       "   'eval_dataset': {'value': 'COCO-karpathy'},\n",
       "   'eval_batch_size': {'value': 1024},\n",
       "   'grouped': {'value': False},\n",
       "   'num_workers': {'value': 24},\n",
       "   'prefetch_factor': {'value': 4}}},\n",
       " 'model': {'parameters': {'cross_attention': {'value': False},\n",
       "   'd_ffn': {'value': 1396},\n",
       "   'd_model': {'value': 768},\n",
       "   'dropout': {'value': 0.2},\n",
       "   'gpt_embedding': {'value': False},\n",
       "   'image_encoder': {'value': 'CLIP/ViT-B-16'},\n",
       "   'image_encoder_frozen': {'value': False},\n",
       "   'max_seq_len': {'value': 30},\n",
       "   'num_heads': {'value': 16},\n",
       "   'num_layers': {'value': 5},\n",
       "   'pos_encoding': {'value': 'learned'},\n",
       "   'share_embedding': {'value': True},\n",
       "   'text_pre_ln': {'value': True},\n",
       "   'torch_attn': {'value': True},\n",
       "   'vocab_size': {'value': 28999}}},\n",
       " 'train': {'parameters': {'autocast': {'value': True},\n",
       "   'clip_grad': {'value': None},\n",
       "   'early_stopping': {'value': 100},\n",
       "   'eval_interval': {'value': 1000},\n",
       "   'label_smoothing': {'value': 0.02},\n",
       "   'log_interval': {'value': 100},\n",
       "   'lr_scheduler': {'value': 'warmup_cosine'},\n",
       "   'num_steps': {'value': 100000},\n",
       "   'optimizer': {'parameters': {'args': {'parameters': {'betas': {'value': [0.9,\n",
       "         0.99]},\n",
       "       'weight_decay': {'value': 0.00412}}},\n",
       "     'base_lr': {'value': 4e-05},\n",
       "     'optim': {'value': 'AdamW-split'}}},\n",
       "   'resulting_batch_size': {'value': 4096},\n",
       "   'warmup_steps': {'value': 500}}}}"
      ]
     },
     "execution_count": 4,
     "metadata": {},
     "output_type": "execute_result"
    }
   ],
   "source": [
    "params"
   ]
  },
  {
   "cell_type": "code",
   "execution_count": 7,
   "metadata": {},
   "outputs": [
    {
     "name": "stdout",
     "output_type": "stream",
     "text": [
      "Create sweep with ID: k9fjycmk\n",
      "Sweep URL: https://wandb.ai/hpoeche-team/git-hp-search/sweeps/k9fjycmk\n"
     ]
    }
   ],
   "source": [
    "sweep_config = {\n",
    "    \"name\": \"final llm-comp\",\n",
    "    \"method\": \"grid\",\n",
    "    \"metric\" : {\n",
    "        \"name\": \"cider_mean\",\n",
    "        \"goal\": \"maximize\"\n",
    "    },\n",
    "    \"parameters\": params\n",
    "}\n",
    "id = wandb.sweep(sweep_config, \"hpoeche-team\", \"git-hp-search\")"
   ]
  }
 ],
 "metadata": {
  "kernelspec": {
   "display_name": "Python 3",
   "language": "python",
   "name": "python3"
  },
  "language_info": {
   "codemirror_mode": {
    "name": "ipython",
    "version": 3
   },
   "file_extension": ".py",
   "mimetype": "text/x-python",
   "name": "python",
   "nbconvert_exporter": "python",
   "pygments_lexer": "ipython3",
   "version": "3.9.2"
  }
 },
 "nbformat": 4,
 "nbformat_minor": 2
}
