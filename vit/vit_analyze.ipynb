{
 "cells": [
  {
   "cell_type": "code",
   "execution_count": 1,
   "metadata": {},
   "outputs": [],
   "source": [
    "import vit\n",
    "import torch\n",
    "import matplotlib.pyplot as plt\n",
    "import numpy as np\n",
    "import torchsummary"
   ]
  },
  {
   "cell_type": "code",
   "execution_count": 15,
   "metadata": {},
   "outputs": [
    {
     "data": {
      "text/plain": [
       "<matplotlib.image.AxesImage at 0x7f8bad8e7580>"
      ]
     },
     "execution_count": 15,
     "metadata": {},
     "output_type": "execute_result"
    },
    {
     "data": {
      "image/png": "[encoded data removed]",
      "text/plain": [
       "<Figure size 432x288 with 1 Axes>"
      ]
     },
     "metadata": {
      "needs_background": "light"
     },
     "output_type": "display_data"
    }
   ],
   "source": [
    "img = torch.zeros((1, 3, 32, 32))\n",
    "img[:, 0, :16, :16] = 1 # oben links rot\n",
    "img[:, 1, 16:, : 16] = 1 # unten links grün\n",
    "img[:, 2, :16, 16:] = 1\n",
    "\n",
    "img[:, 0, 16:, 16:] = 1\n",
    "img[:, 2, 16:, 16:] = 210 / 255\n",
    "\n",
    "plt.imshow(img.squeeze(0).permute(1, 2, 0).numpy())"
   ]
  },
  {
   "cell_type": "code",
   "execution_count": 10,
   "metadata": {},
   "outputs": [
    {
     "name": "stdout",
     "output_type": "stream",
     "text": [
      "torch.Size([1, 16, 192])\n"
     ]
    },
    {
     "data": {
      "image/png": "[encoded data removed]",
      "text/plain": [
       "<Figure size 288x288 with 16 Axes>"
      ]
     },
     "metadata": {
      "needs_background": "light"
     },
     "output_type": "display_data"
    }
   ],
   "source": [
    "patches = vit._image_to_patches(img, 8)\n",
    "print(patches.shape)\n",
    "vit.show_patches(patches, 3, 8)"
   ]
  },
  {
   "cell_type": "code",
   "execution_count": 12,
   "metadata": {},
   "outputs": [
    {
     "name": "stdout",
     "output_type": "stream",
     "text": [
      "torch.Size([1, 4, 4, 8, 8, 3])\n"
     ]
    },
    {
     "data": {
      "image/png": "[encoded data removed]",
      "text/plain": [
       "<Figure size 288x288 with 16 Axes>"
      ]
     },
     "metadata": {
      "needs_background": "light"
     },
     "output_type": "display_data"
    }
   ],
   "source": [
    "out = img.unfold(2, 8, 8).unfold(3, 8, 8).permute(0,2,3,4,5,1)\n",
    "print(out.shape)\n",
    "out = out.reshape(img.size(0), 4**2 ,-1)\n",
    "vit.show_patches(out, 3, 8)"
   ]
  },
  {
   "cell_type": "code",
   "execution_count": 29,
   "metadata": {},
   "outputs": [
    {
     "name": "stdout",
     "output_type": "stream",
     "text": [
      "----------------------------------------------------------------\n",
      "        Layer (type)               Output Shape         Param #\n",
      "================================================================\n",
      "            Linear-1               [-1, 16, 64]          12,288\n",
      "           Dropout-2               [-1, 17, 64]               0\n",
      "         LayerNorm-3               [-1, 17, 64]             128\n",
      "            Linear-4               [-1, 17, 64]           4,096\n",
      "            Linear-5               [-1, 17, 64]           4,096\n",
      "            Linear-6               [-1, 17, 64]           4,096\n",
      "           Softmax-7            [-1, 2, 17, 17]               0\n",
      "           Dropout-8            [-1, 2, 17, 17]               0\n",
      "ScaledDotProductAttention-9            [-1, 2, 17, 32]               0\n",
      "           Linear-10               [-1, 17, 64]           4,160\n",
      "MultiHeadAttention-11               [-1, 17, 64]               0\n",
      "          Dropout-12               [-1, 17, 64]               0\n",
      "        LayerNorm-13               [-1, 17, 64]             128\n",
      "           Linear-14               [-1, 17, 64]           4,160\n",
      "          Dropout-15               [-1, 17, 64]               0\n",
      "             GELU-16               [-1, 17, 64]               0\n",
      "           Linear-17               [-1, 17, 64]           4,160\n",
      "          Dropout-18               [-1, 17, 64]               0\n",
      "              FFN-19               [-1, 17, 64]               0\n",
      "TransformerEncoderLayer-20               [-1, 17, 64]               0\n",
      "        LayerNorm-21                   [-1, 64]             128\n",
      "           Linear-22                   [-1, 64]           4,160\n",
      "             GELU-23                   [-1, 64]               0\n",
      "           Linear-24                   [-1, 10]             650\n",
      "================================================================\n",
      "Total params: 42,250\n",
      "Trainable params: 42,250\n",
      "Non-trainable params: 0\n",
      "----------------------------------------------------------------\n",
      "Input size (MB): 0.01\n",
      "Forward/backward pass size (MB): 0.16\n",
      "Params size (MB): 0.16\n",
      "Estimated Total Size (MB): 0.33\n",
      "----------------------------------------------------------------\n"
     ]
    }
   ],
   "source": [
    "own_vit = vit.VisionTransformer(64, 32, 8, 3, 2, 64, 1, 10)\n",
    "torchsummary.summary(own_vit, (16, 192))"
   ]
  },
  {
   "cell_type": "code",
   "execution_count": 38,
   "metadata": {},
   "outputs": [
    {
     "data": {
      "text/plain": [
       "tensor([[0., 0., 0., 0., 0., 0., 0., 0., 0., 0.]], grad_fn=<AddmmBackward0>)"
      ]
     },
     "execution_count": 38,
     "metadata": {},
     "output_type": "execute_result"
    }
   ],
   "source": [
    "from torchvision.models.vision_transformer import VisionTransformer\n",
    "\n",
    "torch_vit = VisionTransformer(\n",
    "    32, 8, 1, 2, 64, 64, 0.0, 0.0, 10\n",
    ")\n",
    "torch_vit(torch.randn((1, 3, 32, 32)))"
   ]
  },
  {
   "cell_type": "code",
   "execution_count": 2,
   "metadata": {},
   "outputs": [
    {
     "name": "stderr",
     "output_type": "stream",
     "text": [
      "/tmp/ipykernel_220096/4057277040.py:4: FutureWarning: You are using `torch.load` with `weights_only=False` (the current default value), which uses the default pickle module implicitly. It is possible to construct malicious pickle data which will execute arbitrary code during unpickling (See https://github.com/pytorch/pytorch/blob/main/SECURITY.md#untrusted-models for more details). In a future release, the default value for `weights_only` will be flipped to `True`. This limits the functions that could be executed during unpickling. Arbitrary objects will no longer be allowed to be loaded via this mode unless they are explicitly allowlisted by the user via `torch.serialization.add_safe_globals`. We recommend you start setting `weights_only=True` for any use case where you don't have full control of the loaded file. Please open an issue on GitHub for any issues related to this experimental feature.\n",
      "  p = torch.load('github_impls/ViT-CIFAR/weights/vit_c10_aa_ls.pth', map_location='cpu')\n"
     ]
    },
    {
     "data": {
      "text/plain": [
       "<All keys matched successfully>"
      ]
     },
     "execution_count": 2,
     "metadata": {},
     "output_type": "execute_result"
    }
   ],
   "source": [
    "from vit_github import ViT\n",
    "\n",
    "github_vit = ViT(mlp_hidden=384, patch_size=4)\n",
    "p = torch.load('github_impls/ViT-CIFAR/weights/vit_c10_aa_ls.pth', map_location='cpu')\n",
    "github_vit.load_state_dict({k[6:]: p[k] for k in p})"
   ]
  },
  {
   "cell_type": "code",
   "execution_count": 3,
   "metadata": {},
   "outputs": [],
   "source": [
    "from torchvision import datasets\n",
    "from torch.utils.data import DataLoader\n",
    "import torchvision.transforms.v2 as v2\n",
    "\n",
    "transform = v2.Compose((\n",
    "    v2.ToImage(),\n",
    "    v2.ToDtype(torch.float32, scale=True),\n",
    "    v2.Normalize((0.4915, 0.4823, .4468), (0.2470, 0.2435, 0.2616))\n",
    "))\n",
    "\n",
    "val_loader = DataLoader(datasets.CIFAR10('data', train=False, transform=transform), batch_size=1024)"
   ]
  },
  {
   "cell_type": "code",
   "execution_count": 4,
   "metadata": {},
   "outputs": [
    {
     "name": "stdout",
     "output_type": "stream",
     "text": [
      "Accuracy: 0.6975\n",
      "Entropy: 1.30594736328125\n"
     ]
    }
   ],
   "source": [
    "device = torch.device('cuda:0')\n",
    "github_vit.to(device)\n",
    "correct = 0\n",
    "total = 0\n",
    "entropy_sum = 0\n",
    "\n",
    "with torch.no_grad():\n",
    "    for input, target in val_loader:\n",
    "        input = input.to(device)\n",
    "        target = target.to(device)\n",
    "\n",
    "        logits = github_vit(input)\n",
    "        predicted = logits.argmax(dim=-1)\n",
    "        total += target.size(0)\n",
    "        correct += (predicted == target).sum().item()\n",
    "        entropy_sum += torch.distributions.Categorical(logits=logits).entropy().sum().item()\n",
    "    train_accuracy = correct / total\n",
    "    train_entropy = entropy_sum / total\n",
    "\n",
    "print(f'Accuracy: {train_accuracy}')\n",
    "print(f'Entropy: {train_entropy}')"
   ]
  }
 ],
 "metadata": {
  "kernelspec": {
   "display_name": ".venv",
   "language": "python",
   "name": "python3"
  },
  "language_info": {
   "codemirror_mode": {
    "name": "ipython",
    "version": 3
   },
   "file_extension": ".py",
   "mimetype": "text/x-python",
   "name": "python",
   "nbconvert_exporter": "python",
   "pygments_lexer": "ipython3",
   "version": "3.9.2"
  }
 },
 "nbformat": 4,
 "nbformat_minor": 2
}
