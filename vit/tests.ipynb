{
 "cells": [
  {
   "cell_type": "code",
   "execution_count": 1,
   "metadata": {},
   "outputs": [],
   "source": [
    "import torch"
   ]
  },
  {
   "cell_type": "code",
   "execution_count": 2,
   "metadata": {},
   "outputs": [
    {
     "data": {
      "text/plain": [
       "tensor([[[  0,   1,   2,   3,   4,   5,   6,   7,   8,   9,  10,  11,  12,  13,\n",
       "           14,  15],\n",
       "         [ 16,  17,  18,  19,  20,  21,  22,  23,  24,  25,  26,  27,  28,  29,\n",
       "           30,  31],\n",
       "         [ 32,  33,  34,  35,  36,  37,  38,  39,  40,  41,  42,  43,  44,  45,\n",
       "           46,  47],\n",
       "         [ 48,  49,  50,  51,  52,  53,  54,  55,  56,  57,  58,  59,  60,  61,\n",
       "           62,  63]],\n",
       "\n",
       "        [[ 64,  65,  66,  67,  68,  69,  70,  71,  72,  73,  74,  75,  76,  77,\n",
       "           78,  79],\n",
       "         [ 80,  81,  82,  83,  84,  85,  86,  87,  88,  89,  90,  91,  92,  93,\n",
       "           94,  95],\n",
       "         [ 96,  97,  98,  99, 100, 101, 102, 103, 104, 105, 106, 107, 108, 109,\n",
       "          110, 111],\n",
       "         [112, 113, 114, 115, 116, 117, 118, 119, 120, 121, 122, 123, 124, 125,\n",
       "          126, 127]]])"
      ]
     },
     "execution_count": 2,
     "metadata": {},
     "output_type": "execute_result"
    }
   ],
   "source": [
    "a = torch.arange(128)\n",
    "a = a.view(2, 4, 16)\n",
    "a"
   ]
  },
  {
   "cell_type": "code",
   "execution_count": 3,
   "metadata": {},
   "outputs": [
    {
     "data": {
      "text/plain": [
       "tensor([[[[  0,   1],\n",
       "          [ 16,  17],\n",
       "          [ 32,  33],\n",
       "          [ 48,  49]],\n",
       "\n",
       "         [[  2,   3],\n",
       "          [ 18,  19],\n",
       "          [ 34,  35],\n",
       "          [ 50,  51]],\n",
       "\n",
       "         [[  4,   5],\n",
       "          [ 20,  21],\n",
       "          [ 36,  37],\n",
       "          [ 52,  53]],\n",
       "\n",
       "         [[  6,   7],\n",
       "          [ 22,  23],\n",
       "          [ 38,  39],\n",
       "          [ 54,  55]],\n",
       "\n",
       "         [[  8,   9],\n",
       "          [ 24,  25],\n",
       "          [ 40,  41],\n",
       "          [ 56,  57]],\n",
       "\n",
       "         [[ 10,  11],\n",
       "          [ 26,  27],\n",
       "          [ 42,  43],\n",
       "          [ 58,  59]],\n",
       "\n",
       "         [[ 12,  13],\n",
       "          [ 28,  29],\n",
       "          [ 44,  45],\n",
       "          [ 60,  61]],\n",
       "\n",
       "         [[ 14,  15],\n",
       "          [ 30,  31],\n",
       "          [ 46,  47],\n",
       "          [ 62,  63]]],\n",
       "\n",
       "\n",
       "        [[[ 64,  65],\n",
       "          [ 80,  81],\n",
       "          [ 96,  97],\n",
       "          [112, 113]],\n",
       "\n",
       "         [[ 66,  67],\n",
       "          [ 82,  83],\n",
       "          [ 98,  99],\n",
       "          [114, 115]],\n",
       "\n",
       "         [[ 68,  69],\n",
       "          [ 84,  85],\n",
       "          [100, 101],\n",
       "          [116, 117]],\n",
       "\n",
       "         [[ 70,  71],\n",
       "          [ 86,  87],\n",
       "          [102, 103],\n",
       "          [118, 119]],\n",
       "\n",
       "         [[ 72,  73],\n",
       "          [ 88,  89],\n",
       "          [104, 105],\n",
       "          [120, 121]],\n",
       "\n",
       "         [[ 74,  75],\n",
       "          [ 90,  91],\n",
       "          [106, 107],\n",
       "          [122, 123]],\n",
       "\n",
       "         [[ 76,  77],\n",
       "          [ 92,  93],\n",
       "          [108, 109],\n",
       "          [124, 125]],\n",
       "\n",
       "         [[ 78,  79],\n",
       "          [ 94,  95],\n",
       "          [110, 111],\n",
       "          [126, 127]]]])"
      ]
     },
     "execution_count": 3,
     "metadata": {},
     "output_type": "execute_result"
    }
   ],
   "source": [
    "b = a.reshape(2, 4, 8, 2).transpose(1, 2)\n",
    "b"
   ]
  },
  {
   "cell_type": "code",
   "execution_count": 4,
   "metadata": {},
   "outputs": [],
   "source": [
    "from Transformer.transformer import TransformerEncoder\n",
    "\n",
    "t = TransformerEncoder(6, 512, 8, 1024)\n",
    "x = torch.rand((128, 32, 512))\n",
    "\n",
    "y = t(x)"
   ]
  },
  {
   "cell_type": "code",
   "execution_count": 1,
   "metadata": {},
   "outputs": [
    {
     "data": {
      "text/plain": [
       "torch.Size([2, 17, 20])"
      ]
     },
     "execution_count": 1,
     "metadata": {},
     "output_type": "execute_result"
    }
   ],
   "source": [
    "import torch\n",
    "from Transformer.transformer import GITDecoder\n",
    "\n",
    "d = GITDecoder(\n",
    "    num_layers=2,\n",
    "    d_model=512,\n",
    "    num_heads=8,\n",
    "    d_ffn=1024,\n",
    "    vocab_size=20,\n",
    "    max_seq_len=32\n",
    ")\n",
    "\n",
    "q = torch.arange(12).unsqueeze(0)\n",
    "s = torch.arange(12).unsqueeze(0) + 1\n",
    "token = torch.cat((q, s))\n",
    "visual = torch.rand((2, 5, 512))\n",
    "\n",
    "d(token, visual).shape"
   ]
  },
  {
   "cell_type": "code",
   "execution_count": 2,
   "metadata": {},
   "outputs": [
    {
     "data": {
      "text/plain": [
       "torch.Size([2, 3, 9, 9])"
      ]
     },
     "execution_count": 2,
     "metadata": {},
     "output_type": "execute_result"
    }
   ],
   "source": [
    "import torch\n",
    "\n",
    "r = torch.arange(9 * 9).view((9, 9))\n",
    "g = r + 100\n",
    "b = r + 200\n",
    "\n",
    "img = torch.cat((r.unsqueeze(0), g.unsqueeze(0), b.unsqueeze(0))).unsqueeze(0)\n",
    "img = torch.cat((img, img + 1000))\n",
    "hw = 81\n",
    "p = 3\n",
    "n = hw/p**2\n",
    "\n",
    "img.unfold(2, 3, 3).unfold(3, 3, 3).reshape(2, 3, 9, 3 * 3).shape #permute(0, 2, 3, 1).shape"
   ]
  },
  {
   "cell_type": "code",
   "execution_count": 1,
   "metadata": {},
   "outputs": [
    {
     "name": "stderr",
     "output_type": "stream",
     "text": [
      "/home/henri/Dokumente/OneDrive/BA/code/.venv/lib/python3.11/site-packages/torch/optim/lr_scheduler.py:1087: UserWarning: To get the last learning rate computed by the scheduler, please use `get_last_lr()`.\n",
      "  _warn_get_lr_called_within_step(self)\n",
      "/home/henri/Dokumente/OneDrive/BA/code/.venv/lib/python3.11/site-packages/torch/optim/lr_scheduler.py:224: UserWarning: Detected call of `lr_scheduler.step()` before `optimizer.step()`. In PyTorch 1.1.0 and later, you should call them in the opposite order: `optimizer.step()` before `lr_scheduler.step()`.  Failure to do this will result in PyTorch skipping the first value of the learning rate schedule. See more details at https://pytorch.org/docs/stable/optim.html#how-to-adjust-learning-rate\n",
      "  warnings.warn(\n"
     ]
    },
    {
     "data": {
      "text/plain": [
       "[<matplotlib.lines.Line2D at 0x7a9b1a072550>]"
      ]
     },
     "execution_count": 1,
     "metadata": {},
     "output_type": "execute_result"
    },
    {
     "data": {
      "image/png": "[encoded data removed]",
      "text/plain": [
       "<Figure size 640x480 with 1 Axes>"
      ]
     },
     "metadata": {},
     "output_type": "display_data"
    }
   ],
   "source": [
    "from torch import optim, nn\n",
    "import matplotlib.pyplot as plt\n",
    "\n",
    "o = optim.Adam(nn.Linear(10, 10).parameters(), 1)\n",
    "s = optim.lr_scheduler.CosineAnnealingLR(o, 200)\n",
    "\n",
    "lrs = []\n",
    "for _ in range(200):\n",
    "    lrs.append(s.get_last_lr())\n",
    "    s.step()\n",
    "    \n",
    "plt.plot(lrs)"
   ]
  }
 ],
 "metadata": {
  "kernelspec": {
   "display_name": ".venv",
   "language": "python",
   "name": "python3"
  },
  "language_info": {
   "codemirror_mode": {
    "name": "ipython",
    "version": 3
   },
   "file_extension": ".py",
   "mimetype": "text/x-python",
   "name": "python",
   "nbconvert_exporter": "python",
   "pygments_lexer": "ipython3",
   "version": "3.11.6"
  }
 },
 "nbformat": 4,
 "nbformat_minor": 2
}
